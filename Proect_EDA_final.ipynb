{
  "nbformat": 4,
  "nbformat_minor": 0,
  "metadata": {
    "colab": {
      "name": "Proect_EDA_final.ipynb",
      "provenance": [],
      "collapsed_sections": [],
      "authorship_tag": "ABX9TyPB+R2sAjmNtyk+zuK9BV8/",
      "include_colab_link": true
    },
    "kernelspec": {
      "name": "python3",
      "display_name": "Python 3"
    }
  },
  "cells": [
    {
      "cell_type": "markdown",
      "metadata": {
        "id": "view-in-github",
        "colab_type": "text"
      },
      "source": [
        "<a href=\"https://colab.research.google.com/github/milashu7/Module_2/blob/main/Proect_EDA_final.ipynb\" target=\"_parent\"><img src=\"https://colab.research.google.com/assets/colab-badge.svg\" alt=\"Open In Colab\"/></a>"
      ]
    },
    {
      "cell_type": "code",
      "metadata": {
        "id": "gOeLUCqH5AZO",
        "outputId": "3c962088-a97f-4d13-e6dc-02c8349c89dc",
        "colab": {
          "resources": {
            "http://localhost:8080/nbextensions/google.colab/files.js": {
              "data": "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",
              "ok": true,
              "headers": [
                [
                  "content-type",
                  "application/javascript"
                ]
              ],
              "status": 200,
              "status_text": ""
            }
          },
          "base_uri": "https://localhost:8080/",
          "height": 288
        }
      },
      "source": [
        "import numpy as np\n",
        "import pandas as pd\n",
        "import seaborn as sns\n",
        "import matplotlib.pyplot as plt\n",
        "from collections import Counter\n",
        "from itertools import combinations\n",
        "from scipy.stats import ttest_ind\n",
        "\n",
        "### добиться автоматической загрузки файла без мануального режима\n",
        "from google.colab import files\n",
        "uploaded = files.upload()  \n",
        "\n",
        "data_origin = pd.read_csv('stud_math.xls')\n",
        "data_origin.sample(5)"
      ],
      "execution_count": 70,
      "outputs": [
        {
          "output_type": "display_data",
          "data": {
            "text/html": [
              "\n",
              "     <input type=\"file\" id=\"files-8b90df09-9ae0-4357-b222-61e180a8ab30\" name=\"files[]\" multiple disabled\n",
              "        style=\"border:none\" />\n",
              "     <output id=\"result-8b90df09-9ae0-4357-b222-61e180a8ab30\">\n",
              "      Upload widget is only available when the cell has been executed in the\n",
              "      current browser session. Please rerun this cell to enable.\n",
              "      </output>\n",
              "      <script src=\"/nbextensions/google.colab/files.js\"></script> "
            ],
            "text/plain": [
              "<IPython.core.display.HTML object>"
            ]
          },
          "metadata": {
            "tags": []
          }
        },
        {
          "output_type": "stream",
          "text": [
            "Saving stud_math.xls to stud_math (2).xls\n"
          ],
          "name": "stdout"
        },
        {
          "output_type": "execute_result",
          "data": {
            "text/html": [
              "<div>\n",
              "<style scoped>\n",
              "    .dataframe tbody tr th:only-of-type {\n",
              "        vertical-align: middle;\n",
              "    }\n",
              "\n",
              "    .dataframe tbody tr th {\n",
              "        vertical-align: top;\n",
              "    }\n",
              "\n",
              "    .dataframe thead th {\n",
              "        text-align: right;\n",
              "    }\n",
              "</style>\n",
              "<table border=\"1\" class=\"dataframe\">\n",
              "  <thead>\n",
              "    <tr style=\"text-align: right;\">\n",
              "      <th></th>\n",
              "      <th>school</th>\n",
              "      <th>sex</th>\n",
              "      <th>age</th>\n",
              "      <th>address</th>\n",
              "      <th>famsize</th>\n",
              "      <th>Pstatus</th>\n",
              "      <th>Medu</th>\n",
              "      <th>Fedu</th>\n",
              "      <th>Mjob</th>\n",
              "      <th>Fjob</th>\n",
              "      <th>reason</th>\n",
              "      <th>guardian</th>\n",
              "      <th>traveltime</th>\n",
              "      <th>studytime</th>\n",
              "      <th>failures</th>\n",
              "      <th>schoolsup</th>\n",
              "      <th>famsup</th>\n",
              "      <th>paid</th>\n",
              "      <th>activities</th>\n",
              "      <th>nursery</th>\n",
              "      <th>studytime, granular</th>\n",
              "      <th>higher</th>\n",
              "      <th>internet</th>\n",
              "      <th>romantic</th>\n",
              "      <th>famrel</th>\n",
              "      <th>freetime</th>\n",
              "      <th>goout</th>\n",
              "      <th>health</th>\n",
              "      <th>absences</th>\n",
              "      <th>score</th>\n",
              "    </tr>\n",
              "  </thead>\n",
              "  <tbody>\n",
              "    <tr>\n",
              "      <th>263</th>\n",
              "      <td>GP</td>\n",
              "      <td>F</td>\n",
              "      <td>17</td>\n",
              "      <td>U</td>\n",
              "      <td>GT3</td>\n",
              "      <td>T</td>\n",
              "      <td>3.0</td>\n",
              "      <td>3.0</td>\n",
              "      <td>other</td>\n",
              "      <td>other</td>\n",
              "      <td>NaN</td>\n",
              "      <td>mother</td>\n",
              "      <td>1.0</td>\n",
              "      <td>3.0</td>\n",
              "      <td>0.0</td>\n",
              "      <td>no</td>\n",
              "      <td>no</td>\n",
              "      <td>NaN</td>\n",
              "      <td>yes</td>\n",
              "      <td>no</td>\n",
              "      <td>-9.0</td>\n",
              "      <td>yes</td>\n",
              "      <td>no</td>\n",
              "      <td>no</td>\n",
              "      <td>3.0</td>\n",
              "      <td>2.0</td>\n",
              "      <td>3.0</td>\n",
              "      <td>4.0</td>\n",
              "      <td>4.0</td>\n",
              "      <td>45.0</td>\n",
              "    </tr>\n",
              "    <tr>\n",
              "      <th>203</th>\n",
              "      <td>GP</td>\n",
              "      <td>F</td>\n",
              "      <td>17</td>\n",
              "      <td>R</td>\n",
              "      <td>GT3</td>\n",
              "      <td>T</td>\n",
              "      <td>2.0</td>\n",
              "      <td>2.0</td>\n",
              "      <td>other</td>\n",
              "      <td>other</td>\n",
              "      <td>reputation</td>\n",
              "      <td>mother</td>\n",
              "      <td>1.0</td>\n",
              "      <td>1.0</td>\n",
              "      <td>0.0</td>\n",
              "      <td>no</td>\n",
              "      <td>yes</td>\n",
              "      <td>no</td>\n",
              "      <td>no</td>\n",
              "      <td>yes</td>\n",
              "      <td>-3.0</td>\n",
              "      <td>yes</td>\n",
              "      <td>yes</td>\n",
              "      <td>no</td>\n",
              "      <td>5.0</td>\n",
              "      <td>3.0</td>\n",
              "      <td>2.0</td>\n",
              "      <td>3.0</td>\n",
              "      <td>18.0</td>\n",
              "      <td>30.0</td>\n",
              "    </tr>\n",
              "    <tr>\n",
              "      <th>141</th>\n",
              "      <td>GP</td>\n",
              "      <td>M</td>\n",
              "      <td>16</td>\n",
              "      <td>U</td>\n",
              "      <td>LE3</td>\n",
              "      <td>T</td>\n",
              "      <td>2.0</td>\n",
              "      <td>2.0</td>\n",
              "      <td>services</td>\n",
              "      <td>services</td>\n",
              "      <td>reputation</td>\n",
              "      <td>father</td>\n",
              "      <td>2.0</td>\n",
              "      <td>1.0</td>\n",
              "      <td>2.0</td>\n",
              "      <td>no</td>\n",
              "      <td>yes</td>\n",
              "      <td>no</td>\n",
              "      <td>NaN</td>\n",
              "      <td>yes</td>\n",
              "      <td>-3.0</td>\n",
              "      <td>yes</td>\n",
              "      <td>NaN</td>\n",
              "      <td>no</td>\n",
              "      <td>2.0</td>\n",
              "      <td>3.0</td>\n",
              "      <td>3.0</td>\n",
              "      <td>2.0</td>\n",
              "      <td>8.0</td>\n",
              "      <td>45.0</td>\n",
              "    </tr>\n",
              "    <tr>\n",
              "      <th>237</th>\n",
              "      <td>GP</td>\n",
              "      <td>F</td>\n",
              "      <td>16</td>\n",
              "      <td>U</td>\n",
              "      <td>NaN</td>\n",
              "      <td>T</td>\n",
              "      <td>2.0</td>\n",
              "      <td>1.0</td>\n",
              "      <td>other</td>\n",
              "      <td>other</td>\n",
              "      <td>home</td>\n",
              "      <td>mother</td>\n",
              "      <td>1.0</td>\n",
              "      <td>1.0</td>\n",
              "      <td>0.0</td>\n",
              "      <td>no</td>\n",
              "      <td>NaN</td>\n",
              "      <td>no</td>\n",
              "      <td>no</td>\n",
              "      <td>yes</td>\n",
              "      <td>-3.0</td>\n",
              "      <td>yes</td>\n",
              "      <td>yes</td>\n",
              "      <td>yes</td>\n",
              "      <td>4.0</td>\n",
              "      <td>5.0</td>\n",
              "      <td>2.0</td>\n",
              "      <td>5.0</td>\n",
              "      <td>20.0</td>\n",
              "      <td>60.0</td>\n",
              "    </tr>\n",
              "    <tr>\n",
              "      <th>120</th>\n",
              "      <td>GP</td>\n",
              "      <td>F</td>\n",
              "      <td>15</td>\n",
              "      <td>U</td>\n",
              "      <td>GT3</td>\n",
              "      <td>T</td>\n",
              "      <td>1.0</td>\n",
              "      <td>2.0</td>\n",
              "      <td>at_home</td>\n",
              "      <td>NaN</td>\n",
              "      <td>course</td>\n",
              "      <td>mother</td>\n",
              "      <td>1.0</td>\n",
              "      <td>2.0</td>\n",
              "      <td>0.0</td>\n",
              "      <td>no</td>\n",
              "      <td>no</td>\n",
              "      <td>no</td>\n",
              "      <td>no</td>\n",
              "      <td>no</td>\n",
              "      <td>-6.0</td>\n",
              "      <td>yes</td>\n",
              "      <td>yes</td>\n",
              "      <td>no</td>\n",
              "      <td>3.0</td>\n",
              "      <td>2.0</td>\n",
              "      <td>3.0</td>\n",
              "      <td>1.0</td>\n",
              "      <td>NaN</td>\n",
              "      <td>75.0</td>\n",
              "    </tr>\n",
              "  </tbody>\n",
              "</table>\n",
              "</div>"
            ],
            "text/plain": [
              "    school sex  age address famsize  ... freetime  goout  health absences score\n",
              "263     GP   F   17       U     GT3  ...      2.0    3.0     4.0      4.0  45.0\n",
              "203     GP   F   17       R     GT3  ...      3.0    2.0     3.0     18.0  30.0\n",
              "141     GP   M   16       U     LE3  ...      3.0    3.0     2.0      8.0  45.0\n",
              "237     GP   F   16       U     NaN  ...      5.0    2.0     5.0     20.0  60.0\n",
              "120     GP   F   15       U     GT3  ...      2.0    3.0     1.0      NaN  75.0\n",
              "\n",
              "[5 rows x 30 columns]"
            ]
          },
          "metadata": {
            "tags": []
          },
          "execution_count": 70
        }
      ]
    },
    {
      "cell_type": "code",
      "metadata": {
        "id": "R2VgAiAcAXFP",
        "outputId": "d52a9a1c-8e68-49d7-958e-a5001aff106a",
        "colab": {
          "base_uri": "https://localhost:8080/",
          "height": 985
        }
      },
      "source": [
        "# переименование colomns для удобства\n",
        "data_origin.columns = ['school', 'sex', 'age', 'address', 'fam_size', 'p_status', \n",
        "                'm_edu', 'f_edu', 'm_job', 'f_job', 'reason', 'guardian', \n",
        "                'travel_time', 'study_time', 'failures', \n",
        "                'school_sup', 'fam_sup', 'paid', 'activities', \n",
        "                'nursery', 'study_time_granular', 'higher', \n",
        "                'internet', 'romantic', 'fam_rel', 'free_time',\n",
        "                'go_out',\t'health',\t'absences', 'score']                 \n",
        "\n",
        "data = data_origin.copy()\n",
        "display(data.head(10))\n",
        "data.info()\n",
        "# data.describe()\n",
        "# data.head()\n",
        "# data.info"
      ],
      "execution_count": 81,
      "outputs": [
        {
          "output_type": "display_data",
          "data": {
            "text/html": [
              "<div>\n",
              "<style scoped>\n",
              "    .dataframe tbody tr th:only-of-type {\n",
              "        vertical-align: middle;\n",
              "    }\n",
              "\n",
              "    .dataframe tbody tr th {\n",
              "        vertical-align: top;\n",
              "    }\n",
              "\n",
              "    .dataframe thead th {\n",
              "        text-align: right;\n",
              "    }\n",
              "</style>\n",
              "<table border=\"1\" class=\"dataframe\">\n",
              "  <thead>\n",
              "    <tr style=\"text-align: right;\">\n",
              "      <th></th>\n",
              "      <th>school</th>\n",
              "      <th>sex</th>\n",
              "      <th>age</th>\n",
              "      <th>address</th>\n",
              "      <th>fam_size</th>\n",
              "      <th>p_status</th>\n",
              "      <th>m_edu</th>\n",
              "      <th>f_edu</th>\n",
              "      <th>m_job</th>\n",
              "      <th>f_job</th>\n",
              "      <th>reason</th>\n",
              "      <th>guardian</th>\n",
              "      <th>travel_time</th>\n",
              "      <th>study_time</th>\n",
              "      <th>failures</th>\n",
              "      <th>school_sup</th>\n",
              "      <th>fam_sup</th>\n",
              "      <th>paid</th>\n",
              "      <th>activities</th>\n",
              "      <th>nursery</th>\n",
              "      <th>study_time_granular</th>\n",
              "      <th>higher</th>\n",
              "      <th>internet</th>\n",
              "      <th>romantic</th>\n",
              "      <th>fam_rel</th>\n",
              "      <th>free_time</th>\n",
              "      <th>go_out</th>\n",
              "      <th>health</th>\n",
              "      <th>absences</th>\n",
              "      <th>score</th>\n",
              "    </tr>\n",
              "  </thead>\n",
              "  <tbody>\n",
              "    <tr>\n",
              "      <th>0</th>\n",
              "      <td>GP</td>\n",
              "      <td>F</td>\n",
              "      <td>18</td>\n",
              "      <td>U</td>\n",
              "      <td>NaN</td>\n",
              "      <td>A</td>\n",
              "      <td>4.0</td>\n",
              "      <td>4.0</td>\n",
              "      <td>at_home</td>\n",
              "      <td>teacher</td>\n",
              "      <td>course</td>\n",
              "      <td>mother</td>\n",
              "      <td>2.0</td>\n",
              "      <td>2.0</td>\n",
              "      <td>0.0</td>\n",
              "      <td>yes</td>\n",
              "      <td>no</td>\n",
              "      <td>no</td>\n",
              "      <td>no</td>\n",
              "      <td>yes</td>\n",
              "      <td>-6.0</td>\n",
              "      <td>yes</td>\n",
              "      <td>NaN</td>\n",
              "      <td>no</td>\n",
              "      <td>4.0</td>\n",
              "      <td>3.0</td>\n",
              "      <td>4.0</td>\n",
              "      <td>3.0</td>\n",
              "      <td>6.0</td>\n",
              "      <td>30.0</td>\n",
              "    </tr>\n",
              "    <tr>\n",
              "      <th>1</th>\n",
              "      <td>GP</td>\n",
              "      <td>F</td>\n",
              "      <td>17</td>\n",
              "      <td>U</td>\n",
              "      <td>GT3</td>\n",
              "      <td>NaN</td>\n",
              "      <td>1.0</td>\n",
              "      <td>1.0</td>\n",
              "      <td>at_home</td>\n",
              "      <td>other</td>\n",
              "      <td>course</td>\n",
              "      <td>father</td>\n",
              "      <td>1.0</td>\n",
              "      <td>2.0</td>\n",
              "      <td>0.0</td>\n",
              "      <td>no</td>\n",
              "      <td>yes</td>\n",
              "      <td>no</td>\n",
              "      <td>no</td>\n",
              "      <td>no</td>\n",
              "      <td>-6.0</td>\n",
              "      <td>yes</td>\n",
              "      <td>yes</td>\n",
              "      <td>no</td>\n",
              "      <td>5.0</td>\n",
              "      <td>3.0</td>\n",
              "      <td>3.0</td>\n",
              "      <td>3.0</td>\n",
              "      <td>4.0</td>\n",
              "      <td>30.0</td>\n",
              "    </tr>\n",
              "    <tr>\n",
              "      <th>2</th>\n",
              "      <td>GP</td>\n",
              "      <td>F</td>\n",
              "      <td>15</td>\n",
              "      <td>U</td>\n",
              "      <td>LE3</td>\n",
              "      <td>T</td>\n",
              "      <td>1.0</td>\n",
              "      <td>1.0</td>\n",
              "      <td>at_home</td>\n",
              "      <td>other</td>\n",
              "      <td>other</td>\n",
              "      <td>mother</td>\n",
              "      <td>1.0</td>\n",
              "      <td>2.0</td>\n",
              "      <td>3.0</td>\n",
              "      <td>yes</td>\n",
              "      <td>no</td>\n",
              "      <td>NaN</td>\n",
              "      <td>no</td>\n",
              "      <td>yes</td>\n",
              "      <td>-6.0</td>\n",
              "      <td>yes</td>\n",
              "      <td>yes</td>\n",
              "      <td>NaN</td>\n",
              "      <td>4.0</td>\n",
              "      <td>3.0</td>\n",
              "      <td>2.0</td>\n",
              "      <td>3.0</td>\n",
              "      <td>10.0</td>\n",
              "      <td>50.0</td>\n",
              "    </tr>\n",
              "    <tr>\n",
              "      <th>3</th>\n",
              "      <td>GP</td>\n",
              "      <td>F</td>\n",
              "      <td>15</td>\n",
              "      <td>U</td>\n",
              "      <td>GT3</td>\n",
              "      <td>T</td>\n",
              "      <td>4.0</td>\n",
              "      <td>2.0</td>\n",
              "      <td>health</td>\n",
              "      <td>NaN</td>\n",
              "      <td>home</td>\n",
              "      <td>mother</td>\n",
              "      <td>1.0</td>\n",
              "      <td>3.0</td>\n",
              "      <td>0.0</td>\n",
              "      <td>no</td>\n",
              "      <td>yes</td>\n",
              "      <td>yes</td>\n",
              "      <td>yes</td>\n",
              "      <td>yes</td>\n",
              "      <td>-9.0</td>\n",
              "      <td>yes</td>\n",
              "      <td>yes</td>\n",
              "      <td>yes</td>\n",
              "      <td>3.0</td>\n",
              "      <td>2.0</td>\n",
              "      <td>2.0</td>\n",
              "      <td>5.0</td>\n",
              "      <td>2.0</td>\n",
              "      <td>75.0</td>\n",
              "    </tr>\n",
              "    <tr>\n",
              "      <th>4</th>\n",
              "      <td>GP</td>\n",
              "      <td>F</td>\n",
              "      <td>16</td>\n",
              "      <td>U</td>\n",
              "      <td>GT3</td>\n",
              "      <td>T</td>\n",
              "      <td>3.0</td>\n",
              "      <td>3.0</td>\n",
              "      <td>other</td>\n",
              "      <td>other</td>\n",
              "      <td>home</td>\n",
              "      <td>father</td>\n",
              "      <td>1.0</td>\n",
              "      <td>2.0</td>\n",
              "      <td>0.0</td>\n",
              "      <td>no</td>\n",
              "      <td>yes</td>\n",
              "      <td>yes</td>\n",
              "      <td>no</td>\n",
              "      <td>yes</td>\n",
              "      <td>-6.0</td>\n",
              "      <td>yes</td>\n",
              "      <td>no</td>\n",
              "      <td>no</td>\n",
              "      <td>4.0</td>\n",
              "      <td>3.0</td>\n",
              "      <td>2.0</td>\n",
              "      <td>5.0</td>\n",
              "      <td>4.0</td>\n",
              "      <td>50.0</td>\n",
              "    </tr>\n",
              "    <tr>\n",
              "      <th>5</th>\n",
              "      <td>GP</td>\n",
              "      <td>M</td>\n",
              "      <td>16</td>\n",
              "      <td>U</td>\n",
              "      <td>LE3</td>\n",
              "      <td>T</td>\n",
              "      <td>4.0</td>\n",
              "      <td>3.0</td>\n",
              "      <td>services</td>\n",
              "      <td>other</td>\n",
              "      <td>reputation</td>\n",
              "      <td>mother</td>\n",
              "      <td>1.0</td>\n",
              "      <td>2.0</td>\n",
              "      <td>0.0</td>\n",
              "      <td>no</td>\n",
              "      <td>yes</td>\n",
              "      <td>yes</td>\n",
              "      <td>yes</td>\n",
              "      <td>yes</td>\n",
              "      <td>-6.0</td>\n",
              "      <td>yes</td>\n",
              "      <td>yes</td>\n",
              "      <td>no</td>\n",
              "      <td>5.0</td>\n",
              "      <td>4.0</td>\n",
              "      <td>2.0</td>\n",
              "      <td>5.0</td>\n",
              "      <td>10.0</td>\n",
              "      <td>75.0</td>\n",
              "    </tr>\n",
              "    <tr>\n",
              "      <th>6</th>\n",
              "      <td>GP</td>\n",
              "      <td>M</td>\n",
              "      <td>16</td>\n",
              "      <td>NaN</td>\n",
              "      <td>LE3</td>\n",
              "      <td>T</td>\n",
              "      <td>2.0</td>\n",
              "      <td>2.0</td>\n",
              "      <td>other</td>\n",
              "      <td>other</td>\n",
              "      <td>home</td>\n",
              "      <td>mother</td>\n",
              "      <td>1.0</td>\n",
              "      <td>2.0</td>\n",
              "      <td>0.0</td>\n",
              "      <td>no</td>\n",
              "      <td>no</td>\n",
              "      <td>no</td>\n",
              "      <td>no</td>\n",
              "      <td>yes</td>\n",
              "      <td>-6.0</td>\n",
              "      <td>yes</td>\n",
              "      <td>yes</td>\n",
              "      <td>no</td>\n",
              "      <td>4.0</td>\n",
              "      <td>4.0</td>\n",
              "      <td>4.0</td>\n",
              "      <td>3.0</td>\n",
              "      <td>0.0</td>\n",
              "      <td>55.0</td>\n",
              "    </tr>\n",
              "    <tr>\n",
              "      <th>7</th>\n",
              "      <td>GP</td>\n",
              "      <td>F</td>\n",
              "      <td>17</td>\n",
              "      <td>U</td>\n",
              "      <td>GT3</td>\n",
              "      <td>A</td>\n",
              "      <td>4.0</td>\n",
              "      <td>4.0</td>\n",
              "      <td>other</td>\n",
              "      <td>teacher</td>\n",
              "      <td>home</td>\n",
              "      <td>mother</td>\n",
              "      <td>2.0</td>\n",
              "      <td>2.0</td>\n",
              "      <td>0.0</td>\n",
              "      <td>yes</td>\n",
              "      <td>yes</td>\n",
              "      <td>no</td>\n",
              "      <td>no</td>\n",
              "      <td>yes</td>\n",
              "      <td>-6.0</td>\n",
              "      <td>yes</td>\n",
              "      <td>no</td>\n",
              "      <td>no</td>\n",
              "      <td>4.0</td>\n",
              "      <td>1.0</td>\n",
              "      <td>4.0</td>\n",
              "      <td>1.0</td>\n",
              "      <td>6.0</td>\n",
              "      <td>30.0</td>\n",
              "    </tr>\n",
              "    <tr>\n",
              "      <th>8</th>\n",
              "      <td>GP</td>\n",
              "      <td>M</td>\n",
              "      <td>15</td>\n",
              "      <td>U</td>\n",
              "      <td>LE3</td>\n",
              "      <td>A</td>\n",
              "      <td>3.0</td>\n",
              "      <td>2.0</td>\n",
              "      <td>services</td>\n",
              "      <td>other</td>\n",
              "      <td>home</td>\n",
              "      <td>mother</td>\n",
              "      <td>1.0</td>\n",
              "      <td>2.0</td>\n",
              "      <td>0.0</td>\n",
              "      <td>no</td>\n",
              "      <td>yes</td>\n",
              "      <td>yes</td>\n",
              "      <td>no</td>\n",
              "      <td>yes</td>\n",
              "      <td>-6.0</td>\n",
              "      <td>yes</td>\n",
              "      <td>yes</td>\n",
              "      <td>no</td>\n",
              "      <td>NaN</td>\n",
              "      <td>2.0</td>\n",
              "      <td>2.0</td>\n",
              "      <td>1.0</td>\n",
              "      <td>0.0</td>\n",
              "      <td>95.0</td>\n",
              "    </tr>\n",
              "    <tr>\n",
              "      <th>9</th>\n",
              "      <td>GP</td>\n",
              "      <td>M</td>\n",
              "      <td>15</td>\n",
              "      <td>U</td>\n",
              "      <td>NaN</td>\n",
              "      <td>NaN</td>\n",
              "      <td>3.0</td>\n",
              "      <td>4.0</td>\n",
              "      <td>other</td>\n",
              "      <td>other</td>\n",
              "      <td>home</td>\n",
              "      <td>mother</td>\n",
              "      <td>1.0</td>\n",
              "      <td>2.0</td>\n",
              "      <td>0.0</td>\n",
              "      <td>no</td>\n",
              "      <td>yes</td>\n",
              "      <td>yes</td>\n",
              "      <td>yes</td>\n",
              "      <td>yes</td>\n",
              "      <td>-6.0</td>\n",
              "      <td>yes</td>\n",
              "      <td>yes</td>\n",
              "      <td>no</td>\n",
              "      <td>5.0</td>\n",
              "      <td>5.0</td>\n",
              "      <td>1.0</td>\n",
              "      <td>5.0</td>\n",
              "      <td>0.0</td>\n",
              "      <td>75.0</td>\n",
              "    </tr>\n",
              "  </tbody>\n",
              "</table>\n",
              "</div>"
            ],
            "text/plain": [
              "  school sex  age address fam_size  ... free_time  go_out  health absences score\n",
              "0     GP   F   18       U      NaN  ...       3.0     4.0     3.0      6.0  30.0\n",
              "1     GP   F   17       U      GT3  ...       3.0     3.0     3.0      4.0  30.0\n",
              "2     GP   F   15       U      LE3  ...       3.0     2.0     3.0     10.0  50.0\n",
              "3     GP   F   15       U      GT3  ...       2.0     2.0     5.0      2.0  75.0\n",
              "4     GP   F   16       U      GT3  ...       3.0     2.0     5.0      4.0  50.0\n",
              "5     GP   M   16       U      LE3  ...       4.0     2.0     5.0     10.0  75.0\n",
              "6     GP   M   16     NaN      LE3  ...       4.0     4.0     3.0      0.0  55.0\n",
              "7     GP   F   17       U      GT3  ...       1.0     4.0     1.0      6.0  30.0\n",
              "8     GP   M   15       U      LE3  ...       2.0     2.0     1.0      0.0  95.0\n",
              "9     GP   M   15       U      NaN  ...       5.0     1.0     5.0      0.0  75.0\n",
              "\n",
              "[10 rows x 30 columns]"
            ]
          },
          "metadata": {
            "tags": []
          }
        },
        {
          "output_type": "stream",
          "text": [
            "<class 'pandas.core.frame.DataFrame'>\n",
            "RangeIndex: 395 entries, 0 to 394\n",
            "Data columns (total 30 columns):\n",
            " #   Column               Non-Null Count  Dtype  \n",
            "---  ------               --------------  -----  \n",
            " 0   school               395 non-null    object \n",
            " 1   sex                  395 non-null    object \n",
            " 2   age                  395 non-null    int64  \n",
            " 3   address              378 non-null    object \n",
            " 4   fam_size             368 non-null    object \n",
            " 5   p_status             350 non-null    object \n",
            " 6   m_edu                392 non-null    float64\n",
            " 7   f_edu                371 non-null    float64\n",
            " 8   m_job                376 non-null    object \n",
            " 9   f_job                359 non-null    object \n",
            " 10  reason               378 non-null    object \n",
            " 11  guardian             364 non-null    object \n",
            " 12  travel_time          367 non-null    float64\n",
            " 13  study_time           388 non-null    float64\n",
            " 14  failures             373 non-null    float64\n",
            " 15  school_sup           386 non-null    object \n",
            " 16  fam_sup              356 non-null    object \n",
            " 17  paid                 355 non-null    object \n",
            " 18  activities           381 non-null    object \n",
            " 19  nursery              379 non-null    object \n",
            " 20  study_time_granular  388 non-null    float64\n",
            " 21  higher               375 non-null    object \n",
            " 22  internet             361 non-null    object \n",
            " 23  romantic             364 non-null    object \n",
            " 24  fam_rel              368 non-null    float64\n",
            " 25  free_time            384 non-null    float64\n",
            " 26  go_out               387 non-null    float64\n",
            " 27  health               380 non-null    float64\n",
            " 28  absences             383 non-null    float64\n",
            " 29  score                389 non-null    float64\n",
            "dtypes: float64(12), int64(1), object(17)\n",
            "memory usage: 92.7+ KB\n"
          ],
          "name": "stdout"
        }
      ]
    },
    {
      "cell_type": "markdown",
      "metadata": {
        "id": "wYF_evmgafVK"
      },
      "source": [
        "**1.\tПервичная обработка данных.** Оценка количества уникальных значений для номинативных переменных"
      ]
    },
    {
      "cell_type": "code",
      "metadata": {
        "id": "wGvCTOgu-9dL",
        "outputId": "9c44c53a-f977-4f1a-dc02-dbe0bf669676",
        "colab": {
          "base_uri": "https://localhost:8080/",
          "height": 1000
        }
      },
      "source": [
        "# Сформируем два списка  - количественные и качественные переменные\n",
        "# Отображение: для количественных - гистограммы, для качественных - value_counts()\n",
        "\n",
        "def first_view(df):\n",
        "    list_num =[]\n",
        "    list_qual = []\n",
        "    \n",
        "    for col in df:\n",
        "        if df[col].dtypes == 'object':\n",
        "            list_num.append(col)\n",
        "        else:\n",
        "            list_qual.append(col)\n",
        "    \n",
        "    # print(list_num)\n",
        "    # print(list_qual)\n",
        "        \n",
        "    for name1 in list_num:\n",
        "        print(pd.DataFrame(df[name1].value_counts()))\n",
        "        print('Ненулевых значений  ', df[name1].value_counts().sum(),' из ', str(len(data)),' = ', round(100*df[name1].value_counts().sum()/len(data),2), '%' )\n",
        "        print('Уникальных значений  ', df[name1].nunique())\n",
        "    for name2 in list_qual:\n",
        "        print(name2)\n",
        "        df[name2].hist()\n",
        "        print('Ненулевых значений  ', df[name2].value_counts().sum(),' из ', str(len(data)),' = ', round(100*df[name2].value_counts().sum()/len(data),2), '%' )\n",
        "        print('Уникальных значений  ', df[name2].nunique())\n",
        "        plt.show()\n",
        "\n",
        "first_view(data)"
      ],
      "execution_count": 82,
      "outputs": [
        {
          "output_type": "stream",
          "text": [
            "    school\n",
            "GP     349\n",
            "MS      46\n",
            "Ненулевых значений   395  из  395  =  100.0 %\n",
            "Уникальных значений   2\n",
            "   sex\n",
            "F  208\n",
            "M  187\n",
            "Ненулевых значений   395  из  395  =  100.0 %\n",
            "Уникальных значений   2\n",
            "   address\n",
            "U      295\n",
            "R       83\n",
            "Ненулевых значений   378  из  395  =  95.7 %\n",
            "Уникальных значений   2\n",
            "     fam_size\n",
            "GT3       261\n",
            "LE3       107\n",
            "Ненулевых значений   368  из  395  =  93.16 %\n",
            "Уникальных значений   2\n",
            "   p_status\n",
            "T       314\n",
            "A        36\n",
            "Ненулевых значений   350  из  395  =  88.61 %\n",
            "Уникальных значений   2\n",
            "          m_job\n",
            "other       133\n",
            "services     98\n",
            "at_home      58\n",
            "teacher      55\n",
            "health       32\n",
            "Ненулевых значений   376  из  395  =  95.19 %\n",
            "Уникальных значений   5\n",
            "          f_job\n",
            "other       197\n",
            "services    102\n",
            "teacher      29\n",
            "at_home      16\n",
            "health       15\n",
            "Ненулевых значений   359  из  395  =  90.89 %\n",
            "Уникальных значений   5\n",
            "            reason\n",
            "course         137\n",
            "home           104\n",
            "reputation     103\n",
            "other           34\n",
            "Ненулевых значений   378  из  395  =  95.7 %\n",
            "Уникальных значений   4\n",
            "        guardian\n",
            "mother       250\n",
            "father        86\n",
            "other         28\n",
            "Ненулевых значений   364  из  395  =  92.15 %\n",
            "Уникальных значений   3\n",
            "     school_sup\n",
            "no          335\n",
            "yes          51\n",
            "Ненулевых значений   386  из  395  =  97.72 %\n",
            "Уникальных значений   2\n",
            "     fam_sup\n",
            "yes      219\n",
            "no       137\n",
            "Ненулевых значений   356  из  395  =  90.13 %\n",
            "Уникальных значений   2\n",
            "     paid\n",
            "no    200\n",
            "yes   155\n",
            "Ненулевых значений   355  из  395  =  89.87 %\n",
            "Уникальных значений   2\n",
            "     activities\n",
            "yes         195\n",
            "no          186\n",
            "Ненулевых значений   381  из  395  =  96.46 %\n",
            "Уникальных значений   2\n",
            "     nursery\n",
            "yes      300\n",
            "no        79\n",
            "Ненулевых значений   379  из  395  =  95.95 %\n",
            "Уникальных значений   2\n",
            "     higher\n",
            "yes     356\n",
            "no       19\n",
            "Ненулевых значений   375  из  395  =  94.94 %\n",
            "Уникальных значений   2\n",
            "     internet\n",
            "yes       305\n",
            "no         56\n",
            "Ненулевых значений   361  из  395  =  91.39 %\n",
            "Уникальных значений   2\n",
            "     romantic\n",
            "no        240\n",
            "yes       124\n",
            "Ненулевых значений   364  из  395  =  92.15 %\n",
            "Уникальных значений   2\n",
            "age\n",
            "Ненулевых значений   395  из  395  =  100.0 %\n",
            "Уникальных значений   8\n"
          ],
          "name": "stdout"
        },
        {
          "output_type": "display_data",
          "data": {
            "image/png": "[encoded data removed]",
            "text/plain": [
              "<Figure size 432x288 with 1 Axes>"
            ]
          },
          "metadata": {
            "tags": [],
            "needs_background": "light"
          }
        },
        {
          "output_type": "stream",
          "text": [
            "m_edu\n",
            "Ненулевых значений   392  из  395  =  99.24 %\n",
            "Уникальных значений   5\n"
          ],
          "name": "stdout"
        },
        {
          "output_type": "display_data",
          "data": {
            "image/png": "[encoded data removed]",
            "text/plain": [
              "<Figure size 432x288 with 1 Axes>"
            ]
          },
          "metadata": {
            "tags": [],
            "needs_background": "light"
          }
        },
        {
          "output_type": "stream",
          "text": [
            "f_edu\n",
            "Ненулевых значений   371  из  395  =  93.92 %\n",
            "Уникальных значений   6\n"
          ],
          "name": "stdout"
        },
        {
          "output_type": "display_data",
          "data": {
            "image/png": "[encoded data removed]",
            "text/plain": [
              "<Figure size 432x288 with 1 Axes>"
            ]
          },
          "metadata": {
            "tags": [],
            "needs_background": "light"
          }
        },
        {
          "output_type": "stream",
          "text": [
            "travel_time\n",
            "Ненулевых значений   367  из  395  =  92.91 %\n",
            "Уникальных значений   4\n"
          ],
          "name": "stdout"
        },
        {
          "output_type": "display_data",
          "data": {
            "image/png": "[encoded data removed]",
            "text/plain": [
              "<Figure size 432x288 with 1 Axes>"
            ]
          },
          "metadata": {
            "tags": [],
            "needs_background": "light"
          }
        },
        {
          "output_type": "stream",
          "text": [
            "study_time\n",
            "Ненулевых значений   388  из  395  =  98.23 %\n",
            "Уникальных значений   4\n"
          ],
          "name": "stdout"
        },
        {
          "output_type": "display_data",
          "data": {
            "image/png": "[encoded data removed]",
            "text/plain": [
              "<Figure size 432x288 with 1 Axes>"
            ]
          },
          "metadata": {
            "tags": [],
            "needs_background": "light"
          }
        },
        {
          "output_type": "stream",
          "text": [
            "failures\n",
            "Ненулевых значений   373  из  395  =  94.43 %\n",
            "Уникальных значений   4\n"
          ],
          "name": "stdout"
        },
        {
          "output_type": "display_data",
          "data": {
            "image/png": "[encoded data removed]",
            "text/plain": [
              "<Figure size 432x288 with 1 Axes>"
            ]
          },
          "metadata": {
            "tags": [],
            "needs_background": "light"
          }
        },
        {
          "output_type": "stream",
          "text": [
            "study_time_granular\n",
            "Ненулевых значений   388  из  395  =  98.23 %\n",
            "Уникальных значений   4\n"
          ],
          "name": "stdout"
        },
        {
          "output_type": "display_data",
          "data": {
            "image/png": "[encoded data removed]",
            "text/plain": [
              "<Figure size 432x288 with 1 Axes>"
            ]
          },
          "metadata": {
            "tags": [],
            "needs_background": "light"
          }
        },
        {
          "output_type": "stream",
          "text": [
            "fam_rel\n",
            "Ненулевых значений   368  из  395  =  93.16 %\n",
            "Уникальных значений   6\n"
          ],
          "name": "stdout"
        },
        {
          "output_type": "display_data",
          "data": {
            "image/png": "[encoded data removed]",
            "text/plain": [
              "<Figure size 432x288 with 1 Axes>"
            ]
          },
          "metadata": {
            "tags": [],
            "needs_background": "light"
          }
        },
        {
          "output_type": "stream",
          "text": [
            "free_time\n",
            "Ненулевых значений   384  из  395  =  97.22 %\n",
            "Уникальных значений   5\n"
          ],
          "name": "stdout"
        },
        {
          "output_type": "display_data",
          "data": {
            "image/png": "[encoded data removed]",
            "text/plain": [
              "<Figure size 432x288 with 1 Axes>"
            ]
          },
          "metadata": {
            "tags": [],
            "needs_background": "light"
          }
        },
        {
          "output_type": "stream",
          "text": [
            "go_out\n",
            "Ненулевых значений   387  из  395  =  97.97 %\n",
            "Уникальных значений   5\n"
          ],
          "name": "stdout"
        },
        {
          "output_type": "display_data",
          "data": {
            "image/png": "[encoded data removed]",
            "text/plain": [
              "<Figure size 432x288 with 1 Axes>"
            ]
          },
          "metadata": {
            "tags": [],
            "needs_background": "light"
          }
        },
        {
          "output_type": "stream",
          "text": [
            "health\n",
            "Ненулевых значений   380  из  395  =  96.2 %\n",
            "Уникальных значений   5\n"
          ],
          "name": "stdout"
        },
        {
          "output_type": "display_data",
          "data": {
            "image/png": "[encoded data removed]",
            "text/plain": [
              "<Figure size 432x288 with 1 Axes>"
            ]
          },
          "metadata": {
            "tags": [],
            "needs_background": "light"
          }
        },
        {
          "output_type": "stream",
          "text": [
            "absences\n",
            "Ненулевых значений   383  из  395  =  96.96 %\n",
            "Уникальных значений   36\n"
          ],
          "name": "stdout"
        },
        {
          "output_type": "display_data",
          "data": {
            "image/png": "[encoded data removed]",
            "text/plain": [
              "<Figure size 432x288 with 1 Axes>"
            ]
          },
          "metadata": {
            "tags": [],
            "needs_background": "light"
          }
        },
        {
          "output_type": "stream",
          "text": [
            "score\n",
            "Ненулевых значений   389  из  395  =  98.48 %\n",
            "Уникальных значений   18\n"
          ],
          "name": "stdout"
        },
        {
          "output_type": "display_data",
          "data": {
            "image/png": "[encoded data removed]",
            "text/plain": [
              "<Figure size 432x288 with 1 Axes>"
            ]
          },
          "metadata": {
            "tags": [],
            "needs_background": "light"
          }
        }
      ]
    },
    {
      "cell_type": "markdown",
      "metadata": {
        "id": "4wiJ_gt6CNi4"
      },
      "source": [
        "Альтернативный способ нахождения числовых и нечисловых столбцов:"
      ]
    },
    {
      "cell_type": "code",
      "metadata": {
        "id": "ROoKOkJS6DaC"
      },
      "source": [
        "# отбор числовых колонок\n",
        "data_numeric = data.select_dtypes(include=[np.number])\n",
        "numeric_cols = data_numeric.columns.values\n",
        "# print(numeric_cols)\n",
        "\n",
        "# отбор нечисловых колонок\n",
        "data_non_numeric = data.select_dtypes(exclude=[np.number])\n",
        "non_numeric_cols = data_non_numeric.columns.values\n",
        "# print(non_numeric_cols)\n"
      ],
      "execution_count": null,
      "outputs": []
    },
    {
      "cell_type": "markdown",
      "metadata": {
        "id": "oysfNSmBtm_L"
      },
      "source": [
        "Выводы: анализируя предварительно данные можно сделать следующие заключения:\n",
        "1. имеем лишь несколько наборов полных данных (age/возраст, sex/пол, school/аббревиатура школы), все остальные переменные имеют пропуски в данных. Данные имеют пропуски в пределах 10% от всей выборки, наибольшие значения пропусков наблюдаем по переменным p_status (100%-88.61%=11.39%) и paid(100%-89.87%=10.13%).\n",
        "2. гипотеза: ряд переменных содержат выбросы - так, например, f_edu/образование отца ожидаемые значения согласно описанию к данным в диапазоне 0..4, однако имеются значения вне диапазона (f_edu=40);\n",
        "fam_rel/семейные отношения ожидаемые значение 1..5, однако имеем значения вне указанного диапазона (fam_rel<0).\n",
        "3. обнаружена переменная study_time_gran, которая не имеет описания к набору данных. Исключим пока её из рассмотрения в блоке основного анализа и вернёмся к ней при обобщении результатов (возможно это значимый столбец данных). "
      ]
    },
    {
      "cell_type": "markdown",
      "metadata": {
        "id": "e_RBWXsF01-j"
      },
      "source": [
        "**2.\tРаспределение признака для числовых переменных, устранение выбросов.**\n"
      ]
    },
    {
      "cell_type": "markdown",
      "metadata": {
        "id": "QBHUuLat5Sf0"
      },
      "source": [
        "В ходе выполнения п.1 выявлены следующие числовые переменные (по типу данных):\n",
        "age, m_edu, f_edu, travel_time, study_time, failures, fam_rel, free_time, go_out, health, absences, score.\n",
        "Они все имеют (кроме age) нулевые значения.\n",
        "Анализу на выбросы стоит подвергнуть не все переменные, а лишь f_edu, fam_rel, absences, score, которые либо как уже установлено имееют выбросы либо могут иметь их.\n",
        "Постараемся объединить фильтрацию по нулевым значениям признака с поиском выбросов."
      ]
    },
    {
      "cell_type": "markdown",
      "metadata": {
        "id": "CrfL_Mksar4X"
      },
      "source": [
        "Для фильтрации выбросов по переменным: \n",
        "- f_edu и fam_rel воспользуемся определением диапазона значений из описания набора данных;\n",
        "- adsences и score - оценкой межквартильного размаха."
      ]
    },
    {
      "cell_type": "markdown",
      "metadata": {
        "id": "KSQqDhiVjy5D"
      },
      "source": [
        "Фильтрация выбросов по признаку f_edu:"
      ]
    },
    {
      "cell_type": "code",
      "metadata": {
        "id": "RUnqvN3BRMqo",
        "outputId": "4012e282-41e6-4992-dc19-d5a5e991da85",
        "colab": {
          "base_uri": "https://localhost:8080/",
          "height": 151
        }
      },
      "source": [
        "#display(data.f_edu.head(30))\n",
        "nul_f_edu = data.f_edu.isnull().sum()\n",
        "print('Число нулевых значений -  ',nul_f_edu) \n",
        "data.f_edu.value_counts()"
      ],
      "execution_count": 83,
      "outputs": [
        {
          "output_type": "stream",
          "text": [
            "Число нулевых значений -   24\n"
          ],
          "name": "stdout"
        },
        {
          "output_type": "execute_result",
          "data": {
            "text/plain": [
              "2.0     106\n",
              "3.0      96\n",
              "4.0      88\n",
              "1.0      78\n",
              "0.0       2\n",
              "40.0      1\n",
              "Name: f_edu, dtype: int64"
            ]
          },
          "metadata": {
            "tags": []
          },
          "execution_count": 83
        }
      ]
    },
    {
      "cell_type": "markdown",
      "metadata": {
        "id": "fjl5fy5dULco"
      },
      "source": [
        "Очевидно, что по признаку f_edu присутствует один выброс (значение = 40). Вероятнее всего, это ошибка ввода данных. Подтвердим это предположение гистограммой."
      ]
    },
    {
      "cell_type": "code",
      "metadata": {
        "id": "Nvb30R_obRYy",
        "outputId": "795271cb-4eb8-4850-a3d5-e0e1f1bbf509",
        "colab": {
          "base_uri": "https://localhost:8080/",
          "height": 416
        }
      },
      "source": [
        "data.f_edu.hist()\n",
        "data.f_edu.describe()"
      ],
      "execution_count": 84,
      "outputs": [
        {
          "output_type": "execute_result",
          "data": {
            "text/plain": [
              "count    371.000000\n",
              "mean       2.614555\n",
              "std        2.228732\n",
              "min        0.000000\n",
              "25%        2.000000\n",
              "50%        2.000000\n",
              "75%        3.000000\n",
              "max       40.000000\n",
              "Name: f_edu, dtype: float64"
            ]
          },
          "metadata": {
            "tags": []
          },
          "execution_count": 84
        },
        {
          "output_type": "display_data",
          "data": {
            "image/png": "[encoded data removed]",
            "text/plain": [
              "<Figure size 432x288 with 1 Axes>"
            ]
          },
          "metadata": {
            "tags": [],
            "needs_background": "light"
          }
        }
      ]
    },
    {
      "cell_type": "code",
      "metadata": {
        "id": "Ga97IloChM_b",
        "outputId": "b9b10ca8-7bd3-43c3-9609-3106eaa105d3",
        "colab": {
          "base_uri": "https://localhost:8080/",
          "height": 315
        }
      },
      "source": [
        "# Delete null values and outliners\n",
        "print('По признаку  f_edu удалено:')\n",
        "print('число нулевых значений - ', nul_f_edu)\n",
        "\n",
        "data = data.loc[(data.f_edu <= 4)&(data.f_edu>=0)]\n",
        "# display(data)\n",
        "\n",
        "print('число выбросов - ', str(data_origin.f_edu.value_counts().sum()- len(data)))\n",
        "data.f_edu.hist()\n",
        "data.f_edu.describe()\n",
        "n_data = len(data)\n",
        "# print(n_data)"
      ],
      "execution_count": 85,
      "outputs": [
        {
          "output_type": "stream",
          "text": [
            "По признаку  f_edu удалено:\n",
            "число нулевых значений -  24\n",
            "число выбросов -  1\n"
          ],
          "name": "stdout"
        },
        {
          "output_type": "display_data",
          "data": {
            "image/png": "[encoded data removed]",
            "text/plain": [
              "<Figure size 432x288 with 1 Axes>"
            ]
          },
          "metadata": {
            "tags": [],
            "needs_background": "light"
          }
        }
      ]
    },
    {
      "cell_type": "markdown",
      "metadata": {
        "id": "uBeBrNkvkJRz"
      },
      "source": [
        "Фильтрация выбросов по признаку fam_rel:"
      ]
    },
    {
      "cell_type": "code",
      "metadata": {
        "id": "Y-6XnOMVkUTw",
        "outputId": "39a8f8ea-076c-4ed1-f474-b43ec7343882",
        "colab": {
          "base_uri": "https://localhost:8080/",
          "height": 151
        }
      },
      "source": [
        "# display(data.fam_rel.head(30))\n",
        "nul_fam_rel = data.fam_rel.isnull().sum()\n",
        "print('Число нулевых значений -  ', nul_fam_rel) \n",
        "data.fam_rel.value_counts()"
      ],
      "execution_count": 86,
      "outputs": [
        {
          "output_type": "stream",
          "text": [
            "Число нулевых значений -   24\n"
          ],
          "name": "stdout"
        },
        {
          "output_type": "execute_result",
          "data": {
            "text/plain": [
              " 4.0    168\n",
              " 5.0     95\n",
              " 3.0     59\n",
              " 2.0     16\n",
              " 1.0      7\n",
              "-1.0      1\n",
              "Name: fam_rel, dtype: int64"
            ]
          },
          "metadata": {
            "tags": []
          },
          "execution_count": 86
        }
      ]
    },
    {
      "cell_type": "markdown",
      "metadata": {
        "id": "3xT-8gr2Z6CX"
      },
      "source": [
        "Очевидно, что по признаку fam_rel  один выброс (значение = 40). Вероятнее всего, это ошибка ввода данных. Подтвердим это предположение гистограммой."
      ]
    },
    {
      "cell_type": "code",
      "metadata": {
        "id": "_9lbTSSLuIyT",
        "outputId": "1aefe637-4289-4641-da9c-9f18a28faa29",
        "colab": {
          "base_uri": "https://localhost:8080/",
          "height": 416
        }
      },
      "source": [
        "data.fam_rel.hist()\n",
        "data.fam_rel.describe()"
      ],
      "execution_count": 87,
      "outputs": [
        {
          "output_type": "execute_result",
          "data": {
            "text/plain": [
              "count    346.000000\n",
              "mean       3.936416\n",
              "std        0.939629\n",
              "min       -1.000000\n",
              "25%        4.000000\n",
              "50%        4.000000\n",
              "75%        5.000000\n",
              "max        5.000000\n",
              "Name: fam_rel, dtype: float64"
            ]
          },
          "metadata": {
            "tags": []
          },
          "execution_count": 87
        },
        {
          "output_type": "display_data",
          "data": {
            "image/png": "[encoded data removed]",
            "text/plain": [
              "<Figure size 432x288 with 1 Axes>"
            ]
          },
          "metadata": {
            "tags": [],
            "needs_background": "light"
          }
        }
      ]
    },
    {
      "cell_type": "code",
      "metadata": {
        "id": "9Kukf3XOhN-A",
        "outputId": "be4f9e96-e107-48d0-ec3c-8313a25ceb00",
        "colab": {
          "base_uri": "https://localhost:8080/",
          "height": 332
        }
      },
      "source": [
        "# Delete null values and outliners\n",
        "print('По признаку  fam_rel удалено:')\n",
        "print('число нулевых значений - ', nul_fam_rel)\n",
        "\n",
        "data = data.loc[(data.fam_rel <= 5)&(data.fam_rel>=1)]\n",
        "\n",
        "print('число выбросов - ', str(n_data - nul_fam_rel-len(data)))\n",
        "data.fam_rel.hist()\n",
        "data.fam_rel.describe()\n",
        "n_data = len(data)\n",
        "print(n_data)"
      ],
      "execution_count": 88,
      "outputs": [
        {
          "output_type": "stream",
          "text": [
            "По признаку  fam_rel удалено:\n",
            "число нулевых значений -  24\n",
            "число выбросов -  1\n",
            "345\n"
          ],
          "name": "stdout"
        },
        {
          "output_type": "display_data",
          "data": {
            "image/png": "[encoded data removed]",
            "text/plain": [
              "<Figure size 432x288 with 1 Axes>"
            ]
          },
          "metadata": {
            "tags": [],
            "needs_background": "light"
          }
        }
      ]
    },
    {
      "cell_type": "markdown",
      "metadata": {
        "id": "Eg3OQPQbjPBz"
      },
      "source": [
        "Фильтрация выбросов по признаку absences:"
      ]
    },
    {
      "cell_type": "code",
      "metadata": {
        "id": "in178TUmB2yk",
        "outputId": "a49a910b-6e5b-4de0-b829-a9cdc98ef8e6",
        "colab": {
          "base_uri": "https://localhost:8080/",
          "height": 433
        }
      },
      "source": [
        "nul_absences = data.absences.isnull().sum()\n",
        "print('Число нулевых значений -  ', nul_absences) \n",
        "data.absences.value_counts()\n",
        "data.absences.hist()\n",
        "data.absences.describe()"
      ],
      "execution_count": 89,
      "outputs": [
        {
          "output_type": "stream",
          "text": [
            "Число нулевых значений -   12\n"
          ],
          "name": "stdout"
        },
        {
          "output_type": "execute_result",
          "data": {
            "text/plain": [
              "count    333.000000\n",
              "mean       7.315315\n",
              "std       24.755302\n",
              "min        0.000000\n",
              "25%        0.000000\n",
              "50%        4.000000\n",
              "75%        8.000000\n",
              "max      385.000000\n",
              "Name: absences, dtype: float64"
            ]
          },
          "metadata": {
            "tags": []
          },
          "execution_count": 89
        },
        {
          "output_type": "display_data",
          "data": {
            "image/png": "[encoded data removed]",
            "text/plain": [
              "<Figure size 432x288 with 1 Axes>"
            ]
          },
          "metadata": {
            "tags": [],
            "needs_background": "light"
          }
        }
      ]
    },
    {
      "cell_type": "markdown",
      "metadata": {
        "id": "fBwNaG4agnga"
      },
      "source": [
        "Замечаем, что переменная absences имеет не только 12 пустых значений, а и выбросы. Удалим из датасета и пустые значения и выбросы, намеренно заменяя пустые значения выбросами, скажем значением -999, что намного меньше min = 0. Тогда за один проход получим чистые значения"
      ]
    },
    {
      "cell_type": "code",
      "metadata": {
        "id": "-YTNn6kRHzGS",
        "outputId": "acdd9b29-64d4-4f16-eccb-01b87f4b29ee",
        "colab": {
          "base_uri": "https://localhost:8080/",
          "height": 318
        }
      },
      "source": [
        "# Delete null values and outliners\n",
        "data.absences =  data.absences.fillna(-999)\n",
        "\n",
        "median = data.absences.median()\n",
        "IQR = data.absences.quantile(0.75) - data.absences.quantile(0.25)\n",
        "perc25 = data.absences.quantile(0.25)\n",
        "perc75 = data.absences.quantile(0.75)\n",
        "l = perc25 - 1.5*IQR\n",
        "r = perc75 + 1.5*IQR\n",
        "print('25-й перцентиль: {},'.format(perc25), '75-й перцентиль: {},'.format(perc75), \"IQR: {}, \".format(IQR), \"Границы выбросов: [{f}, {l}].\".format(f=l, l=r))\n",
        "\n",
        "v = n_data - len(data[data.absences.between(perc25 - 1.5*IQR, perc75 + 1.5*IQR)])\n",
        "print('По признаку  absences число выбросов - ', str(v))\n",
        "\n",
        "data = data[data.absences.between(perc25-1.5*IQR,perc75+1.5*IQR)]\n",
        "data.absences.hist(bins = 25, range = (perc25 - 1.5*IQR-1, perc75 + 1.5*IQR+1), label = 'IQR')\n",
        "plt.legend();\n"
      ],
      "execution_count": 90,
      "outputs": [
        {
          "output_type": "stream",
          "text": [
            "25-й перцентиль: 0.0, 75-й перцентиль: 8.0, IQR: 8.0,  Границы выбросов: [-12.0, 20.0].\n",
            "По признаку  absences число выбросов -  27\n"
          ],
          "name": "stdout"
        },
        {
          "output_type": "display_data",
          "data": {
            "image/png": "[encoded data removed]",
            "text/plain": [
              "<Figure size 432x288 with 1 Axes>"
            ]
          },
          "metadata": {
            "tags": [],
            "needs_background": "light"
          }
        }
      ]
    },
    {
      "cell_type": "markdown",
      "metadata": {
        "id": "GpOX_wYpusZJ"
      },
      "source": [
        "Фильтрация выбросов по признаку score:"
      ]
    },
    {
      "cell_type": "code",
      "metadata": {
        "id": "2Rm3O7fTh9eu",
        "outputId": "eb1a811c-dcc4-4419-87fe-01de1be6f042",
        "colab": {
          "base_uri": "https://localhost:8080/",
          "height": 336
        }
      },
      "source": [
        "# display(data.score.head(30))\n",
        "nul_score = data.score.isnull().sum()\n",
        "print('Число нулевых значений -  ', nul_score) \n",
        "data.score.value_counts()"
      ],
      "execution_count": 91,
      "outputs": [
        {
          "output_type": "stream",
          "text": [
            "Число нулевых значений -   5\n"
          ],
          "name": "stdout"
        },
        {
          "output_type": "execute_result",
          "data": {
            "text/plain": [
              "50.0     50\n",
              "55.0     38\n",
              "0.0      30\n",
              "65.0     27\n",
              "75.0     25\n",
              "60.0     25\n",
              "70.0     23\n",
              "40.0     22\n",
              "45.0     17\n",
              "80.0     16\n",
              "30.0     13\n",
              "90.0      8\n",
              "35.0      8\n",
              "25.0      5\n",
              "85.0      3\n",
              "95.0      2\n",
              "100.0     1\n",
              "Name: score, dtype: int64"
            ]
          },
          "metadata": {
            "tags": []
          },
          "execution_count": 91
        }
      ]
    },
    {
      "cell_type": "code",
      "metadata": {
        "id": "GzJM6zQhiXtu",
        "outputId": "69ee0a41-7fbc-4400-a64d-58033114a277",
        "colab": {
          "base_uri": "https://localhost:8080/",
          "height": 416
        }
      },
      "source": [
        "data.score.hist()\n",
        "data.score.describe()"
      ],
      "execution_count": 92,
      "outputs": [
        {
          "output_type": "execute_result",
          "data": {
            "text/plain": [
              "count    313.000000\n",
              "mean      52.124601\n",
              "std       22.511546\n",
              "min        0.000000\n",
              "25%       45.000000\n",
              "50%       55.000000\n",
              "75%       65.000000\n",
              "max      100.000000\n",
              "Name: score, dtype: float64"
            ]
          },
          "metadata": {
            "tags": []
          },
          "execution_count": 92
        },
        {
          "output_type": "display_data",
          "data": {
            "image/png": "[encoded data removed]",
            "text/plain": [
              "<Figure size 432x288 with 1 Axes>"
            ]
          },
          "metadata": {
            "tags": [],
            "needs_background": "light"
          }
        }
      ]
    },
    {
      "cell_type": "markdown",
      "metadata": {
        "id": "aSO9xxPOitC2"
      },
      "source": [
        "Замечаем, что данные по переменной score содержат 5 пустых значений, и возможные выбросы в диапазоне от 0..20, оценивая среднее значение, стандартное отклонение и значение квартилей. Проверим эту гипотезу методом межквартильного размаха.\n"
      ]
    },
    {
      "cell_type": "code",
      "metadata": {
        "id": "OicAHUYxjjZQ",
        "outputId": "8c841c5a-2e57-4dc6-e859-5255b596a871",
        "colab": {
          "base_uri": "https://localhost:8080/",
          "height": 298
        }
      },
      "source": [
        "# Delete null values and outliners\n",
        "data.score =  data.score.fillna(-999)\n",
        "\n",
        "median = data.score.median()\n",
        "IQR = data.score.quantile(0.75) - data.absences.quantile(0.25)\n",
        "perc25 = data.score.quantile(0.25)\n",
        "perc75 = data.score.quantile(0.75)\n",
        "l = perc25 - 1.5*IQR\n",
        "r = perc75 + 1.5*IQR\n",
        "print('25-й перцентиль: {},'.format(perc25), '75-й перцентиль: {},'.format(perc75), \"IQR: {}, \".format(IQR), \"Границы выбросов: [{f}, {l}].\".format(f=l, l=r))\n",
        "\n",
        "v = n_data - len(data[data.score.between(perc25 - 1.5*IQR, perc75 + 1.5*IQR)])\n",
        "print('По признаку  score число выбросов - ', str(v))\n",
        "\n",
        "data = data[data.score.between(perc25-1.5*IQR,perc75+1.5*IQR)]\n",
        "data.score.hist(bins = 25, range = (perc25 - 1.5*IQR-1, perc75 + 1.5*IQR+1), label = 'IQR')\n",
        "plt.legend();"
      ],
      "execution_count": 93,
      "outputs": [
        {
          "output_type": "stream",
          "text": [
            "25-й перцентиль: 40.0, 75-й перцентиль: 65.0, IQR: 65.0,  Границы выбросов: [-57.5, 162.5].\n",
            "По признаку  score число выбросов -  32\n"
          ],
          "name": "stdout"
        },
        {
          "output_type": "display_data",
          "data": {
            "image/png": "[encoded data removed]",
            "text/plain": [
              "<Figure size 432x288 with 1 Axes>"
            ]
          },
          "metadata": {
            "tags": [],
            "needs_background": "light"
          }
        }
      ]
    },
    {
      "cell_type": "markdown",
      "metadata": {
        "id": "UUWIwO0lkh8z"
      },
      "source": [
        "Получили в качестве выбросов - пустые данные, подозрительный на выбросы диапазон 0..20 не подтвердился методом межквартильного размаха."
      ]
    },
    {
      "cell_type": "markdown",
      "metadata": {
        "id": "-K1Drk36gmwa"
      },
      "source": [
        "**3.\tПроведение корреляционного анализа количественных переменных**"
      ]
    },
    {
      "cell_type": "markdown",
      "metadata": {
        "id": "bBglje4smXlB"
      },
      "source": [
        "Для коррреляционного анализа выбрала переменные age, m_edu, f_edu и score. Все переменные (кроме m_edu) прошли обработку. Посмотрим на данные в колонке m_edu требуется ли очистка этих данных?!"
      ]
    },
    {
      "cell_type": "code",
      "metadata": {
        "id": "JI205WNYx8I5",
        "outputId": "974e4a1e-d9d4-4134-8d96-59c6c1f7b4d7",
        "colab": {
          "base_uri": "https://localhost:8080/",
          "height": 101
        }
      },
      "source": [
        "data_corr = data[['age' , 'm_edu', 'f_edu', 'score']]\n",
        "display (len(data_corr))\n",
        "for col in data_corr.columns:\n",
        "    pct_missing = np.mean(data_corr[col].isnull())\n",
        "    print('{} - {}%'.format(col, round(pct_missing*100)))"
      ],
      "execution_count": 62,
      "outputs": [
        {
          "output_type": "display_data",
          "data": {
            "text/plain": [
              "313"
            ]
          },
          "metadata": {
            "tags": []
          }
        },
        {
          "output_type": "stream",
          "text": [
            "age - 0.0%\n",
            "m_edu - 1.0%\n",
            "f_edu - 0.0%\n",
            "score - 0.0%\n"
          ],
          "name": "stdout"
        }
      ]
    },
    {
      "cell_type": "markdown",
      "metadata": {
        "id": "lYTpNmb1nKxf"
      },
      "source": [
        "Данные m_edu содержат пустые значения. Проведём их очистку и проверку."
      ]
    },
    {
      "cell_type": "code",
      "metadata": {
        "id": "bBnbvjPGncpB",
        "outputId": "1b1ee6ef-80aa-438d-b594-5747202d4735",
        "colab": {
          "base_uri": "https://localhost:8080/",
          "height": 101
        }
      },
      "source": [
        "data_corr = data_corr[~data_corr.m_edu.isnull()]\n",
        "display(len(data_corr))\n",
        "for col in data_corr.columns:\n",
        "    pct_missing = np.mean(data_corr[col].isnull())\n",
        "    print('{} - {}%'.format(col, round(pct_missing*100)))"
      ],
      "execution_count": 63,
      "outputs": [
        {
          "output_type": "display_data",
          "data": {
            "text/plain": [
              "310"
            ]
          },
          "metadata": {
            "tags": []
          }
        },
        {
          "output_type": "stream",
          "text": [
            "age - 0.0%\n",
            "m_edu - 0.0%\n",
            "f_edu - 0.0%\n",
            "score - 0.0%\n"
          ],
          "name": "stdout"
        }
      ]
    },
    {
      "cell_type": "code",
      "metadata": {
        "id": "4Rcb9XR2nJse",
        "outputId": "281debbc-0920-4043-b844-d1c90306142d",
        "colab": {
          "base_uri": "https://localhost:8080/",
          "height": 743
        }
      },
      "source": [
        "sns.pairplot(data_corr, kind = 'reg')"
      ],
      "execution_count": 44,
      "outputs": [
        {
          "output_type": "execute_result",
          "data": {
            "text/plain": [
              "<seaborn.axisgrid.PairGrid at 0x7fe2223cf240>"
            ]
          },
          "metadata": {
            "tags": []
          },
          "execution_count": 44
        },
        {
          "output_type": "display_data",
          "data": {
            "image/png": "[encoded data removed]",
            "text/plain": [
              "<Figure size 720x720 with 20 Axes>"
            ]
          },
          "metadata": {
            "tags": [],
            "needs_background": "light"
          }
        }
      ]
    },
    {
      "cell_type": "code",
      "metadata": {
        "id": "GiE9LLD4Ciw8",
        "outputId": "3347c688-47f2-4019-d380-f43ccebf4077",
        "colab": {
          "base_uri": "https://localhost:8080/",
          "height": 166
        }
      },
      "source": [
        "data_corr.describe()   \n",
        "data_corr.corr(method ='pearson')"
      ],
      "execution_count": 64,
      "outputs": [
        {
          "output_type": "execute_result",
          "data": {
            "text/html": [
              "<div>\n",
              "<style scoped>\n",
              "    .dataframe tbody tr th:only-of-type {\n",
              "        vertical-align: middle;\n",
              "    }\n",
              "\n",
              "    .dataframe tbody tr th {\n",
              "        vertical-align: top;\n",
              "    }\n",
              "\n",
              "    .dataframe thead th {\n",
              "        text-align: right;\n",
              "    }\n",
              "</style>\n",
              "<table border=\"1\" class=\"dataframe\">\n",
              "  <thead>\n",
              "    <tr style=\"text-align: right;\">\n",
              "      <th></th>\n",
              "      <th>age</th>\n",
              "      <th>m_edu</th>\n",
              "      <th>f_edu</th>\n",
              "      <th>score</th>\n",
              "    </tr>\n",
              "  </thead>\n",
              "  <tbody>\n",
              "    <tr>\n",
              "      <th>age</th>\n",
              "      <td>1.000000</td>\n",
              "      <td>-0.155972</td>\n",
              "      <td>-0.178627</td>\n",
              "      <td>-0.148777</td>\n",
              "    </tr>\n",
              "    <tr>\n",
              "      <th>m_edu</th>\n",
              "      <td>-0.155972</td>\n",
              "      <td>1.000000</td>\n",
              "      <td>0.644265</td>\n",
              "      <td>0.198240</td>\n",
              "    </tr>\n",
              "    <tr>\n",
              "      <th>f_edu</th>\n",
              "      <td>-0.178627</td>\n",
              "      <td>0.644265</td>\n",
              "      <td>1.000000</td>\n",
              "      <td>0.108119</td>\n",
              "    </tr>\n",
              "    <tr>\n",
              "      <th>score</th>\n",
              "      <td>-0.148777</td>\n",
              "      <td>0.198240</td>\n",
              "      <td>0.108119</td>\n",
              "      <td>1.000000</td>\n",
              "    </tr>\n",
              "  </tbody>\n",
              "</table>\n",
              "</div>"
            ],
            "text/plain": [
              "            age     m_edu     f_edu     score\n",
              "age    1.000000 -0.155972 -0.178627 -0.148777\n",
              "m_edu -0.155972  1.000000  0.644265  0.198240\n",
              "f_edu -0.178627  0.644265  1.000000  0.108119\n",
              "score -0.148777  0.198240  0.108119  1.000000"
            ]
          },
          "metadata": {
            "tags": []
          },
          "execution_count": 64
        }
      ]
    },
    {
      "cell_type": "markdown",
      "metadata": {
        "id": "C53FBOOJgRVU"
      },
      "source": [
        "Выводы по корреляции:\n",
        "1. Согласно результатов корреляционного анализа коррелированных переменных в датасете не обнаружено, это означает, что все выбранные переменные пригодны для построения модели.\n",
        "2. Значение корреляции 0.64 между переменными m_edu и f_edu может говорить о том, что образование родителей в большинстве примерно равное. Что достаточно интуитивно понятно согласно здравому смыслу."
      ]
    },
    {
      "cell_type": "markdown",
      "metadata": {
        "id": "wFI05VzlxpcP"
      },
      "source": [
        "**4. Анализ номинативных переменных** и устранение тех, которые не влияют на предсказываемую величину (в нашем случае — на переменную score).\n"
      ]
    },
    {
      "cell_type": "code",
      "metadata": {
        "id": "oIG4eor6hXlx",
        "outputId": "41164f86-c439-4dcc-cdf3-603ba4acb8bf",
        "colab": {
          "base_uri": "https://localhost:8080/",
          "height": 67
        }
      },
      "source": [
        "def get_stat_dif(column):\n",
        "    cols = data.loc[:, column].value_counts().index[:10]\n",
        "    combinations_all = list(combinations(cols, 2))\n",
        "    for comb in combinations_all:\n",
        "        if ttest_ind(data.loc[data.loc[:, column] == comb[0], 'score'], \n",
        "                        data.loc[data.loc[:, column] == comb[1], 'score']).pvalue \\\n",
        "            <= 0.05/len(combinations_all): # Учли поправку Бонферони\n",
        "            print('Найдены статистически значимые различия для колонки', column)\n",
        "            break\n",
        "\n",
        "\n",
        "for col in ['school', 'sex', 'address', 'fam_size', 'p_status', 'm_job', \n",
        "            'f_job', 'reason', 'guardian', 'school_sup', 'fam_sup', 'paid', \n",
        "            'activities', 'nursery', 'higher', 'internet', 'romantic']:\n",
        "    get_stat_dif(col)   "
      ],
      "execution_count": 94,
      "outputs": [
        {
          "output_type": "stream",
          "text": [
            "Найдены статистически значимые различия для колонки address\n",
            "Найдены статистически значимые различия для колонки paid\n",
            "Найдены статистически значимые различия для колонки higher\n"
          ],
          "name": "stdout"
        }
      ]
    },
    {
      "cell_type": "code",
      "metadata": {
        "id": "1chNK9VlCi1V"
      },
      "source": [
        "data_for_model = data.loc[:, ['address', 'paid', 'higher','age' , 'm_edu', 'f_edu', 'score']]\n",
        "data_for_model.head(40)"
      ],
      "execution_count": null,
      "outputs": []
    },
    {
      "cell_type": "markdown",
      "metadata": {
        "id": "P4TR6KfwgkE8"
      },
      "source": [
        "Выводы относительно качества данных и тех переменных, которые вы будете использовать в дальнейшем построении модели:\n",
        "переменные по признаку paid небыли обработаны ранее (имеют нулевые значения), требуется произвести их очистку."
      ]
    },
    {
      "cell_type": "code",
      "metadata": {
        "id": "9W51tGyjHTGS",
        "outputId": "73d67876-5545-4cb4-c9b8-00f1be5037c9",
        "colab": {
          "base_uri": "https://localhost:8080/",
          "height": 34
        }
      },
      "source": [
        "data_for_model = data_for_model[~data_for_model.paid.isnull()]\n",
        "data_for_model = data_for_model[~data_for_model.address.isnull()]\n",
        "data_for_model = data_for_model[~data_for_model.higher.isnull()]\n",
        "data_for_model.head(40)\n",
        "#print(len(data_for_model))"
      ],
      "execution_count": 99,
      "outputs": [
        {
          "output_type": "stream",
          "text": [
            "257\n"
          ],
          "name": "stdout"
        }
      ]
    },
    {
      "cell_type": "markdown",
      "metadata": {
        "id": "R9M1CYjIh6VI"
      },
      "source": [
        "# Новый раздел"
      ]
    },
    {
      "cell_type": "markdown",
      "metadata": {
        "id": "VtCw_KZkUQi6"
      },
      "source": [
        "Итак, в результате EDA анализа влияния условий жизни учащихся в возрасте от 15 до 22 лет на их успеваемость по математике получены следующие выводы:\n",
        "\n",
        "1. В данных достаточно мало пустых значений. Данные имеют пропуски в пределах 10% от всей выборки, наибольшие значения пропусков наблюдаем по переменным p_status (11.39%) и paid(10.13%).\n",
        "\n",
        "2. Выбросы найдены только в столбцах f_edu и fam_rel, что позволяет сделать вывод о том, что данные достаточно чистые.\n",
        "\n",
        "3. Достаточно хорошо коррелированных числовых признаков  не выявлено.\n",
        "\n",
        "4. Обнаружена переменная study_time_gran, которая не имеет описания к набору данных. Исключила  её из рассмотрения в блоке основного анализа. Можно вернутся к ней при уточнении описания к датасету (возможно это значимый столбец данных).\n",
        "\n",
        "5. Самые важные параметры, которые предлагается использовать в дальнейшем для построения модели, это address, paid, higher, age, m_edu, f_edu и score."
      ]
    }
  ]
}